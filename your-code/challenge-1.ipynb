{
 "cells": [
  {
   "cell_type": "markdown",
   "metadata": {},
   "source": [
    "# Challenge 1 - Tic Tac Toe\n",
    "\n",
    "In this lab you will perform deep learning analysis on a dataset of playing [Tic Tac Toe](https://en.wikipedia.org/wiki/Tic-tac-toe).\n",
    "\n",
    "There are 9 grids in Tic Tac Toe that are coded as the following picture shows:\n",
    "\n",
    "![Tic Tac Toe Grids](tttboard.jpg)\n",
    "\n",
    "In the first 9 columns of the dataset you can find which marks (`x` or `o`) exist in the grids. If there is no mark in a certain grid, it is labeled as `b`. The last column is `class` which tells you whether Player X (who always moves first in Tic Tac Toe) wins in this configuration. Note that when `class` has the value `False`, it means either Player O wins the game or it ends up as a draw."
   ]
  },
  {
   "cell_type": "markdown",
   "metadata": {},
   "source": [
    "Follow the steps suggested below to conduct a neural network analysis using Tensorflow and Keras. You will build a deep learning model to predict whether Player X wins the game or not.\n",
    "\n",
    "## Step 1: Data Engineering\n",
    "\n",
    "This dataset is almost in the ready-to-use state so you do not need to worry about missing values and so on. Still, some simple data engineering is needed.\n",
    "\n",
    "1. Read `tic-tac-toe.csv` into a dataframe.\n",
    "1. Inspect the dataset. Determine if the dataset is reliable by eyeballing the data.\n",
    "1. Convert the categorical values to numeric in all columns.\n",
    "1. Separate the inputs and output.\n",
    "1. Normalize the input data."
   ]
  },
  {
   "cell_type": "code",
   "execution_count": 7,
   "metadata": {},
   "outputs": [
    {
     "data": {
      "text/plain": [
       "array([[1, 1, 1, ..., 1, 0, 0],\n",
       "       [1, 1, 1, ..., 0, 1, 0],\n",
       "       [1, 1, 1, ..., 0, 0, 1],\n",
       "       ...,\n",
       "       [0, 1, 0, ..., 1, 0, 1],\n",
       "       [0, 1, 0, ..., 1, 0, 1],\n",
       "       [0, 0, 1, ..., 0, 1, 1]], dtype=int64)"
      ]
     },
     "execution_count": 7,
     "metadata": {},
     "output_type": "execute_result"
    }
   ],
   "source": [
    "# your code here\n",
    "import pandas as pd\n",
    "import numpy as np\n",
    "#from sklearn.preprocessing import normalize\n",
    "\n",
    "# INPUT\n",
    "ttt = pd.read_csv('tic-tac-toe.csv')\n",
    "X = ttt.drop('class', axis = 1)\n",
    "dt = {'x' : 1, 'o' : 0, 'b' : -1}\n",
    "X = np.array(X.applymap(dt.get))\n",
    "#X = normalize(X)\n",
    "X"
   ]
  },
  {
   "cell_type": "code",
   "execution_count": 8,
   "metadata": {},
   "outputs": [],
   "source": [
    "# OUTPUT\n",
    "y = np.array(ttt['class'].astype('int'))"
   ]
  },
  {
   "cell_type": "markdown",
   "metadata": {},
   "source": [
    "## Step 2: Build Neural Network\n",
    "\n",
    "To build the neural network, you can refer to your own codes you wrote while following the [Deep Learning with Python, TensorFlow, and Keras tutorial](https://www.youtube.com/watch?v=wQ8BIBpya2k) in the lesson. It's pretty similar to what you will be doing in this lab.\n",
    "\n",
    "1. Split the training and test data.\n",
    "1. Create a `Sequential` model.\n",
    "1. Add several layers to your model. Make sure you use ReLU as the activation function for the middle layers. Use Softmax for the output layer because each output has a single lable and all the label probabilities add up to 1.\n",
    "1. Compile the model using `adam` as the optimizer and `sparse_categorical_crossentropy` as the loss function. For metrics, use `accuracy` for now.\n",
    "1. Fit the training data.\n",
    "1. Evaluate your neural network model with the test data.\n",
    "1. Save your model as `tic-tac-toe.model`."
   ]
  },
  {
   "cell_type": "code",
   "execution_count": 9,
   "metadata": {},
   "outputs": [],
   "source": [
    "#X_train.shape, X_test.shape, y_train.shape, y_test.shape"
   ]
  },
  {
   "cell_type": "code",
   "execution_count": 15,
   "metadata": {},
   "outputs": [
    {
     "name": "stdout",
     "output_type": "stream",
     "text": [
      "Epoch 1/5\n",
      "766/766 [==============================] - 1s 2ms/step - loss: 0.6553 - acc: 0.6110\n",
      "Epoch 2/5\n",
      "766/766 [==============================] - 0s 164us/step - loss: 0.5997 - acc: 0.6606\n",
      "Epoch 3/5\n",
      "766/766 [==============================] - 0s 151us/step - loss: 0.5717 - acc: 0.6997\n",
      "Epoch 4/5\n",
      "766/766 [==============================] - 0s 161us/step - loss: 0.5496 - acc: 0.7232\n",
      "Epoch 5/5\n",
      "766/766 [==============================] - 0s 149us/step - loss: 0.5261 - acc: 0.7637\n",
      "192/192 [==============================] - 0s 885us/step\n"
     ]
    }
   ],
   "source": [
    "# your code here\n",
    "from sklearn.model_selection import train_test_split\n",
    "from keras.models import Sequential\n",
    "from keras.layers import Dense\n",
    "from keras.utils import to_categorical\n",
    "from sklearn.preprocessing import StandardScaler\n",
    "\n",
    "# Split.\n",
    "X_train, X_test, y_train, y_test = train_test_split(X,y, test_size = 0.2)\n",
    "\n",
    "#sc = StandardScaler()\n",
    "#X_train = sc.fit_transform(X_train)\n",
    "#X_test = sc.transform(X_test)\n",
    "#X_train = X_train.reshape((-1, 9))\n",
    "#X_test = X_test.reshape((-1, 9))\n",
    "\n",
    "# Build the model.\n",
    "model = Sequential([\n",
    "  Dense(64, activation = 'relu', input_shape=(9,)),\n",
    "  Dense(64, activation = 'relu'),\n",
    "  Dense(2, activation = 'softmax'),\n",
    "])\n",
    "\n",
    "# Compile the model.\n",
    "model.compile(\n",
    "  optimizer = 'adam',\n",
    "  loss = 'sparse_categorical_crossentropy',\n",
    "  metrics = ['accuracy'],\n",
    ")\n",
    "\n",
    "# Train the model.\n",
    "history = model.fit(\n",
    "  X_train,\n",
    "  y_train,\n",
    "  epochs = 5,\n",
    "  batch_size = 32,\n",
    ")\n",
    "\n",
    "# Evaluate the model.\n",
    "model.evaluate(\n",
    "  X_test,\n",
    "  y_test\n",
    ")\n",
    "\n",
    "model.save_weights('tic-tac-toe.model.h5')"
   ]
  },
  {
   "cell_type": "markdown",
   "metadata": {},
   "source": []
  },
  {
   "cell_type": "markdown",
   "metadata": {},
   "source": [
    "## Step 3: Make Predictions\n",
    "\n",
    "Now load your saved model and use it to make predictions on a few random rows in the test dataset. Check if the predictions are correct."
   ]
  },
  {
   "cell_type": "code",
   "execution_count": 16,
   "metadata": {},
   "outputs": [
    {
     "name": "stdout",
     "output_type": "stream",
     "text": [
      "[1 1 1 1 1 1 0 1 1 0 1 0 0 1 1 1 1 1 1 1]\n",
      "[1 0 0 1 1 1 1 0 1 1 0 1 1 1 1 1 1 1 1 1]\n"
     ]
    }
   ],
   "source": [
    "# your code here\n",
    "#model.load_weights('tic-tac-toe.model.h5')\n",
    "predictions = model.predict(X_test[:20])\n",
    "print(np.argmax(predictions, axis=1))\n",
    "print(y_test[:20])"
   ]
  },
  {
   "cell_type": "markdown",
   "metadata": {},
   "source": [
    "## Step 4: Improve Your Model\n",
    "\n",
    "Did your model achieve low loss (<0.1) and high accuracy (>0.95)? If not, try to improve your model.\n",
    "\n",
    "But how? There are so many things you can play with in Tensorflow and in the next challenge you'll learn about these things. But in this challenge, let's just do a few things to see if they will help.\n",
    "\n",
    "* Add more layers to your model. If the data are complex you need more layers. But don't use more layers than you need. If adding more layers does not improve the model performance you don't need additional layers.\n",
    "* Adjust the learning rate when you compile the model. This means you will create a custom `tf.keras.optimizers.Adam` instance where you specify the learning rate you want. Then pass the instance to `model.compile` as the optimizer.\n",
    "    * `tf.keras.optimizers.Adam` [reference](https://www.tensorflow.org/api_docs/python/tf/keras/optimizers/Adam).\n",
    "    * Don't worry if you don't understand what the learning rate does. You'll learn about it in the next challenge.\n",
    "* Adjust the number of epochs when you fit the training data to the model. Your model performance continues to improve as you train more epochs. But eventually it will reach the ceiling and the performance will stay the same."
   ]
  },
  {
   "cell_type": "code",
   "execution_count": 18,
   "metadata": {},
   "outputs": [
    {
     "name": "stdout",
     "output_type": "stream",
     "text": [
      "Epoch 1/8\n",
      "766/766 [==============================] - 2s 2ms/step - loss: 0.6625 - acc: 0.6070\n",
      "Epoch 2/8\n",
      "766/766 [==============================] - 0s 202us/step - loss: 0.6027 - acc: 0.6723\n",
      "Epoch 3/8\n",
      "766/766 [==============================] - 0s 195us/step - loss: 0.5663 - acc: 0.7063\n",
      "Epoch 4/8\n",
      "766/766 [==============================] - 0s 202us/step - loss: 0.5236 - acc: 0.7454\n",
      "Epoch 5/8\n",
      "766/766 [==============================] - 0s 193us/step - loss: 0.4772 - acc: 0.7937\n",
      "Epoch 6/8\n",
      "766/766 [==============================] - 0s 171us/step - loss: 0.4357 - acc: 0.8068\n",
      "Epoch 7/8\n",
      "766/766 [==============================] - 0s 209us/step - loss: 0.4046 - acc: 0.8303\n",
      "Epoch 8/8\n",
      "766/766 [==============================] - 0s 198us/step - loss: 0.3536 - acc: 0.8577\n",
      "[1 1 0 1 1 1 1 0 1 0 0 1 1 1 1 1 0 1 0 1]\n",
      "[1 0 0 1 1 1 1 0 1 1 0 1 1 1 1 1 1 1 1 1]\n"
     ]
    }
   ],
   "source": [
    "# your code here\n",
    "model = Sequential([\n",
    "  Dense(64, activation = 'relu', input_shape=(9,)),\n",
    "  Dense(64, activation = 'relu'),\n",
    "  Dense(32, activation = 'relu'),\n",
    "  Dense(32, activation = 'relu'),\n",
    "  Dense(2, activation = 'softmax'),\n",
    "])\n",
    "\n",
    "model.compile(\n",
    "  optimizer = 'adam',\n",
    "  loss = 'sparse_categorical_crossentropy',\n",
    "  metrics = ['accuracy'],\n",
    ")\n",
    "\n",
    "# Train the model.\n",
    "history = model.fit(\n",
    "  X_train,\n",
    "  y_train,\n",
    "  epochs = 8,\n",
    "  batch_size = 32,\n",
    ")\n",
    "\n",
    "predictions = model.predict(X_test[:20])\n",
    "print(np.argmax(predictions, axis=1))\n",
    "print(y_test[:20])"
   ]
  },
  {
   "cell_type": "code",
   "execution_count": 31,
   "metadata": {},
   "outputs": [
    {
     "name": "stdout",
     "output_type": "stream",
     "text": [
      "Epoch 1/8\n",
      "766/766 [==============================] - 3s 4ms/step - loss: 0.6070 - acc: 0.6671\n",
      "Epoch 2/8\n",
      "766/766 [==============================] - 0s 206us/step - loss: 0.4498 - acc: 0.7911\n",
      "Epoch 3/8\n",
      "766/766 [==============================] - 0s 214us/step - loss: 0.3806 - acc: 0.8355\n",
      "Epoch 4/8\n",
      "766/766 [==============================] - 0s 292us/step - loss: 0.2840 - acc: 0.8864\n",
      "Epoch 5/8\n",
      "766/766 [==============================] - 0s 335us/step - loss: 0.2264 - acc: 0.9099\n",
      "Epoch 6/8\n",
      "766/766 [==============================] - 0s 299us/step - loss: 0.2172 - acc: 0.9112\n",
      "Epoch 7/8\n",
      "766/766 [==============================] - 0s 354us/step - loss: 0.1590 - acc: 0.9386\n",
      "Epoch 8/8\n",
      "766/766 [==============================] - 0s 338us/step - loss: 0.1131 - acc: 0.9595\n",
      "[1 1 0 1 1 1 1 0 1 1 1 1 1 1 1 1 1 1 1 1]\n",
      "[1 0 0 1 1 1 1 0 1 1 0 1 1 1 1 1 1 1 1 1]\n"
     ]
    }
   ],
   "source": [
    "import tensorflow as tf\n",
    "#from tensorflow.keras.optimizers import Adam\n",
    "from keras.optimizers import Adam\n",
    "\n",
    "# your code here\n",
    "model = Sequential([\n",
    "  Dense(64, activation = 'relu', input_shape=(9,)),\n",
    "  Dense(64, activation = 'relu'),\n",
    "  Dense(64, activation = 'relu'),\n",
    "  Dense(2, activation = 'softmax'),\n",
    "])\n",
    "\n",
    "model.compile(\n",
    "  optimizer = Adam(lr = 0.01),\n",
    "  loss = 'sparse_categorical_crossentropy',\n",
    "  metrics = ['accuracy'],\n",
    ")\n",
    "\n",
    "# Train the model.\n",
    "history = model.fit(\n",
    "  X_train,\n",
    "  y_train,\n",
    "  epochs = 8,\n",
    "  batch_size = 32,\n",
    ")\n",
    "\n",
    "predictions = model.predict(X_test[:20])\n",
    "print(np.argmax(predictions, axis=1))\n",
    "print(y_test[:20])"
   ]
  },
  {
   "cell_type": "markdown",
   "metadata": {},
   "source": [
    "**Which approach(es) did you find helpful to improve your model performance?**"
   ]
  },
  {
   "cell_type": "markdown",
   "metadata": {},
   "source": [
    "### your answer here\n",
    "- Yes, adding an epoch and small learning rate improved the model.\n",
    "- However lowering the lr too much did not help."
   ]
  },
  {
   "cell_type": "code",
   "execution_count": null,
   "metadata": {},
   "outputs": [],
   "source": []
  }
 ],
 "metadata": {
  "kernelspec": {
   "display_name": "Python 3",
   "language": "python",
   "name": "python3"
  },
  "language_info": {
   "codemirror_mode": {
    "name": "ipython",
    "version": 3
   },
   "file_extension": ".py",
   "mimetype": "text/x-python",
   "name": "python",
   "nbconvert_exporter": "python",
   "pygments_lexer": "ipython3",
   "version": "3.7.5"
  }
 },
 "nbformat": 4,
 "nbformat_minor": 2
}
